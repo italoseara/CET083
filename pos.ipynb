{
 "cells": [
  {
   "cell_type": "markdown",
   "metadata": {},
   "source": [
    "# Posição (ou separatrizes)\n",
    "\n",
    "## Autores\n",
    "\n",
    "- [Italo Seara](https://github.com/italoseara)\n",
    "- [Lucas Luige](https://github.com/lluigecm)\n",
    "- [Gabriel Prado](https://github.com/Gabriel-Prd)\n",
    "\n",
    "## Objetivo\n",
    "\n",
    "Apresentar o conceito de separatrizes e suas aplicações.\n",
    "\n",
    "## Bibliotecas utilizadas\n",
    "\n",
    "- [Numpy](https://numpy.org/) para cálculos numéricos\n",
    "- [Matplotlib](https://matplotlib.org/) para visualização de dados\n",
    "- [Pandas](https://pandas.pydata.org/) para manipulação de dados"
   ]
  },
  {
   "cell_type": "code",
   "execution_count": 97,
   "metadata": {},
   "outputs": [],
   "source": [
    "# Carregando os pacotes necessários\n",
    "import numpy as np\n",
    "import pandas as pd\n",
    "import matplotlib.pyplot as plt"
   ]
  },
  {
   "cell_type": "markdown",
   "metadata": {},
   "source": [
    "## Implementações próprias\n",
    "\n",
    "As implementações abaixo serão utilizadas ao longo do notebook para facilitar a visualização dos dados, transformando os dados que seriam retornados em forma de arrays em dataframes que podem ser visualizados como uma tabela. Note que não é necessário utiliza-las para fins de cálculo, apenas para visualização.\n",
    "\n",
    "A classe `FrequencyTable` foi criada para que haja de forma similar à `fdt` da biblioteca `fdth` em R. Ela utiliza a função [`pd.cut`](https://pandas.pydata.org/pandas-docs/stable/reference/api/pandas.cut.html) do pandas para criar os intervalos de classe.\n",
    "\n",
    "A função `quantile` calcula os quantis de uma amostra utilizando a função [`np.quantile`](https://numpy.org/doc/stable/reference/generated/numpy.quantile.html) do numpy."
   ]
  },
  {
   "cell_type": "code",
   "execution_count": 98,
   "metadata": {},
   "outputs": [],
   "source": [
    "from typing import Union\n",
    "\n",
    "\n",
    "class FrequencyTable(pd.DataFrame):\n",
    "    def __init__(self, f: np.array, start: float, end: float, right: bool = False) -> None:\n",
    "        # Criando os intervalos\n",
    "        bins = np.linspace(start, end, len(f)+1)\n",
    "\n",
    "        # Criando a tabela de frequência\n",
    "        super().__init__({}, index=pd.cut(bins[:-1], bins, right=right))\n",
    "\n",
    "        total         = f.sum()\n",
    "        self['f']     = f                         # Frequência absoluta\n",
    "        self['rf']    = self['f'] / total         # Frequência relativa\n",
    "        self['rf(%)'] = self['rf'] * 100          # Frequência relativa percentual\n",
    "        self['cf']    = self['f'].cumsum()        # Frequência acumulada\n",
    "        self['cf(%)'] = self['cf'] / total * 100  # Frequência acumulada percentual\n",
    "\n",
    "    def quantile(self, q: Union[float, list[float], np.ndarray]) -> float | list[float]:\n",
    "        if type(q) in [list, np.ndarray]:\n",
    "            return [self.quantile(i) for i in q]\n",
    "\n",
    "        if not 0 < q < 1:\n",
    "            raise ValueError('`q` must be between 0 and 1')\n",
    "\n",
    "        n   = self['f'].sum()                   # Tamanho da serie\n",
    "        pos = q * n                             # Posição do percentil\n",
    "        ip  = self[self['cf'] >= pos].index[0]  # Intervalo do percentil\n",
    "        lpi = ip.left                           # Limite inferior da classe Pi\n",
    "        lps = ip.right                          # Limite superior da classe Pi\n",
    "        h   = lps - lpi                         # Amplitude da classe Pi\n",
    "        sfa = sum(self[self.index < ip]['f'])   # Soma das frequências anteriores a Pi\n",
    "        fpi = self.loc[ip]['f']                 # Frequência da classe Pi\n",
    "\n",
    "        # Calculo do percentil\n",
    "        return lpi + ((pos - sfa) * h) / fpi\n",
    "\n",
    "def quantile(arr: Union[np.array, FrequencyTable], q: Union[float, list[float], np.ndarray]) -> pd.DataFrame:\n",
    "    # Calcula os quantis\n",
    "    quantiles = arr.quantile(q) if type(arr) == FrequencyTable else np.quantile(arr, q)\n",
    "\n",
    "    # Retorna o resultado em formato de DataFrame\n",
    "    return pd.DataFrame(\n",
    "        quantiles,\n",
    "        columns=['Quantis'], \n",
    "        index=[f'{round(i * 100)}%' for i in q] if type(q) in [list, np.ndarray] else [f'{q*100}%']\n",
    "    )"
   ]
  },
  {
   "cell_type": "markdown",
   "metadata": {},
   "source": [
    "# Quartis\n",
    "\n",
    "## A partir de um array"
   ]
  },
  {
   "cell_type": "code",
   "execution_count": 99,
   "metadata": {},
   "outputs": [
    {
     "data": {
      "text/html": [
       "<div>\n",
       "<style scoped>\n",
       "    .dataframe tbody tr th:only-of-type {\n",
       "        vertical-align: middle;\n",
       "    }\n",
       "\n",
       "    .dataframe tbody tr th {\n",
       "        vertical-align: top;\n",
       "    }\n",
       "\n",
       "    .dataframe thead th {\n",
       "        text-align: right;\n",
       "    }\n",
       "</style>\n",
       "<table border=\"1\" class=\"dataframe\">\n",
       "  <thead>\n",
       "    <tr style=\"text-align: right;\">\n",
       "      <th></th>\n",
       "      <th>Quantis</th>\n",
       "    </tr>\n",
       "  </thead>\n",
       "  <tbody>\n",
       "    <tr>\n",
       "      <th>25%</th>\n",
       "      <td>-0.645037</td>\n",
       "    </tr>\n",
       "    <tr>\n",
       "      <th>50%</th>\n",
       "      <td>-0.112139</td>\n",
       "    </tr>\n",
       "    <tr>\n",
       "      <th>75%</th>\n",
       "      <td>0.592879</td>\n",
       "    </tr>\n",
       "  </tbody>\n",
       "</table>\n",
       "</div>"
      ],
      "text/plain": [
       "      Quantis\n",
       "25% -0.645037\n",
       "50% -0.112139\n",
       "75%  0.592879"
      ]
     },
     "execution_count": 99,
     "metadata": {},
     "output_type": "execute_result"
    }
   ],
   "source": [
    "# Criando um array com 100 valores aleatórios\n",
    "k = np.random.normal(0, 1, 100)\n",
    "\n",
    "# Calculando os quartis\n",
    "quantile(k, [0.25, 0.5, 0.75])"
   ]
  },
  {
   "cell_type": "code",
   "execution_count": 100,
   "metadata": {},
   "outputs": [
    {
     "data": {
      "text/plain": [
       "(-0.6450372532306382, -0.1121392932324266, 0.5928786909356663)"
      ]
     },
     "execution_count": 100,
     "metadata": {},
     "output_type": "execute_result"
    }
   ],
   "source": [
    "# Caso queira calcular os quartis separadamente\n",
    "q1 = np.quantile(k, 0.25)\n",
    "q2 = np.quantile(k, 0.5)\n",
    "q3 = np.quantile(k, 0.75)\n",
    "\n",
    "q1, q2, q3"
   ]
  },
  {
   "cell_type": "code",
   "execution_count": 101,
   "metadata": {},
   "outputs": [
    {
     "data": {
      "text/plain": [
       "1.2379159441663043"
      ]
     },
     "execution_count": 101,
     "metadata": {},
     "output_type": "execute_result"
    }
   ],
   "source": [
    "# Amplitude interquartílica\n",
    "iqr = q3 - q1\n",
    "iqr"
   ]
  },
  {
   "cell_type": "markdown",
   "metadata": {},
   "source": [
    "## A partir de uma fdt"
   ]
  },
  {
   "cell_type": "code",
   "execution_count": 102,
   "metadata": {},
   "outputs": [
    {
     "data": {
      "text/html": [
       "<div>\n",
       "<style scoped>\n",
       "    .dataframe tbody tr th:only-of-type {\n",
       "        vertical-align: middle;\n",
       "    }\n",
       "\n",
       "    .dataframe tbody tr th {\n",
       "        vertical-align: top;\n",
       "    }\n",
       "\n",
       "    .dataframe thead th {\n",
       "        text-align: right;\n",
       "    }\n",
       "</style>\n",
       "<table border=\"1\" class=\"dataframe\">\n",
       "  <thead>\n",
       "    <tr style=\"text-align: right;\">\n",
       "      <th></th>\n",
       "      <th>f</th>\n",
       "      <th>rf</th>\n",
       "      <th>rf(%)</th>\n",
       "      <th>cf</th>\n",
       "      <th>cf(%)</th>\n",
       "    </tr>\n",
       "  </thead>\n",
       "  <tbody>\n",
       "    <tr>\n",
       "      <th>[50.0, 54.0)</th>\n",
       "      <td>4</td>\n",
       "      <td>0.100</td>\n",
       "      <td>10.0</td>\n",
       "      <td>4</td>\n",
       "      <td>10.0</td>\n",
       "    </tr>\n",
       "    <tr>\n",
       "      <th>[54.0, 58.0)</th>\n",
       "      <td>9</td>\n",
       "      <td>0.225</td>\n",
       "      <td>22.5</td>\n",
       "      <td>13</td>\n",
       "      <td>32.5</td>\n",
       "    </tr>\n",
       "    <tr>\n",
       "      <th>[58.0, 62.0)</th>\n",
       "      <td>11</td>\n",
       "      <td>0.275</td>\n",
       "      <td>27.5</td>\n",
       "      <td>24</td>\n",
       "      <td>60.0</td>\n",
       "    </tr>\n",
       "    <tr>\n",
       "      <th>[62.0, 66.0)</th>\n",
       "      <td>8</td>\n",
       "      <td>0.200</td>\n",
       "      <td>20.0</td>\n",
       "      <td>32</td>\n",
       "      <td>80.0</td>\n",
       "    </tr>\n",
       "    <tr>\n",
       "      <th>[66.0, 70.0)</th>\n",
       "      <td>5</td>\n",
       "      <td>0.125</td>\n",
       "      <td>12.5</td>\n",
       "      <td>37</td>\n",
       "      <td>92.5</td>\n",
       "    </tr>\n",
       "    <tr>\n",
       "      <th>[70.0, 74.0)</th>\n",
       "      <td>3</td>\n",
       "      <td>0.075</td>\n",
       "      <td>7.5</td>\n",
       "      <td>40</td>\n",
       "      <td>100.0</td>\n",
       "    </tr>\n",
       "  </tbody>\n",
       "</table>\n",
       "</div>"
      ],
      "text/plain": [
       "               f     rf  rf(%)  cf  cf(%)\n",
       "[50.0, 54.0)   4  0.100   10.0   4   10.0\n",
       "[54.0, 58.0)   9  0.225   22.5  13   32.5\n",
       "[58.0, 62.0)  11  0.275   27.5  24   60.0\n",
       "[62.0, 66.0)   8  0.200   20.0  32   80.0\n",
       "[66.0, 70.0)   5  0.125   12.5  37   92.5\n",
       "[70.0, 74.0)   3  0.075    7.5  40  100.0"
      ]
     },
     "execution_count": 102,
     "metadata": {},
     "output_type": "execute_result"
    }
   ],
   "source": [
    "# Criando uma tabela de distribuição de frequência\n",
    "fdt = FrequencyTable(\n",
    "        f=np.array([4, 9, 11, 8, 5, 3]),\n",
    "        start=50,\n",
    "        end=74)\n",
    "fdt"
   ]
  },
  {
   "cell_type": "code",
   "execution_count": 103,
   "metadata": {},
   "outputs": [
    {
     "data": {
      "text/html": [
       "<div>\n",
       "<style scoped>\n",
       "    .dataframe tbody tr th:only-of-type {\n",
       "        vertical-align: middle;\n",
       "    }\n",
       "\n",
       "    .dataframe tbody tr th {\n",
       "        vertical-align: top;\n",
       "    }\n",
       "\n",
       "    .dataframe thead th {\n",
       "        text-align: right;\n",
       "    }\n",
       "</style>\n",
       "<table border=\"1\" class=\"dataframe\">\n",
       "  <thead>\n",
       "    <tr style=\"text-align: right;\">\n",
       "      <th></th>\n",
       "      <th>Quantis</th>\n",
       "    </tr>\n",
       "  </thead>\n",
       "  <tbody>\n",
       "    <tr>\n",
       "      <th>25%</th>\n",
       "      <td>56.666667</td>\n",
       "    </tr>\n",
       "    <tr>\n",
       "      <th>50%</th>\n",
       "      <td>60.545455</td>\n",
       "    </tr>\n",
       "    <tr>\n",
       "      <th>75%</th>\n",
       "      <td>65.000000</td>\n",
       "    </tr>\n",
       "  </tbody>\n",
       "</table>\n",
       "</div>"
      ],
      "text/plain": [
       "       Quantis\n",
       "25%  56.666667\n",
       "50%  60.545455\n",
       "75%  65.000000"
      ]
     },
     "execution_count": 103,
     "metadata": {},
     "output_type": "execute_result"
    }
   ],
   "source": [
    "# Calculando os quartis\n",
    "quantile(fdt, [0.25, 0.5, 0.75])"
   ]
  },
  {
   "cell_type": "markdown",
   "metadata": {},
   "source": [
    "## Visualização com Boxplot\n",
    "\n",
    "<img src=\"https://api.www.labxchange.org/api/v1/xblocks/lb:LabXchange:d8863c77:html:1/storage/211626365402575-b88c4d0fdacd5abb4c3dc2de3bc004bb.png\" width=\"600\">\n",
    "\n",
    "Documentação das principais funções utilizadas:\n",
    "- [`plt.boxplot`](https://matplotlib.org/stable/api/_as_gen/matplotlib.pyplot.boxplot.html)."
   ]
  },
  {
   "cell_type": "code",
   "execution_count": 104,
   "metadata": {},
   "outputs": [
    {
     "data": {
      "image/png": "[encoded data removed]",
      "text/plain": [
       "<Figure size 700x600 with 1 Axes>"
      ]
     },
     "metadata": {},
     "output_type": "display_data"
    }
   ],
   "source": [
    "# Definindo o tamanho da figura\n",
    "plt.figure(figsize=(7, 6))\n",
    "\n",
    "# Definindo o título e os eixos\n",
    "plt.title('Visualização com Boxplot')\n",
    "plt.xlabel('Valores')\n",
    "\n",
    "# Plotando o boxplot\n",
    "plt.boxplot(k)\n",
    "\n",
    "# Desenhando linhas nos quartis\n",
    "plt.axhline(q1, color='r', linestyle='--')\n",
    "plt.axhline(q2, color='g', linestyle='--')\n",
    "plt.axhline(q3, color='b', linestyle='--')\n",
    "\n",
    "# Escrevendo os valores dos quartis\n",
    "plt.text(0.55, q1 + 0.2, f'Q1 = {round(q1, 2)}')\n",
    "plt.text(0.55, q2 + 0.2, f'Q2 = {round(q2, 2)}')\n",
    "plt.text(0.55, q3 + 0.2, f'Q3 = {round(q3, 2)}')\n",
    "\n",
    "# Mostrando o gráfico\n",
    "plt.show()"
   ]
  },
  {
   "cell_type": "markdown",
   "metadata": {},
   "source": [
    "## A partir de um conjunto de dados\n",
    "\n",
    "Documentação das principais funções utilizadas:\n",
    "- [`pd.DataFrame.quantile`](https://pandas.pydata.org/pandas-docs/stable/reference/api/pandas.DataFrame.quantile.html).\n",
    "- [`pd.DataFrame.boxplot`](https://pandas.pydata.org/pandas-docs/stable/reference/api/pandas.DataFrame.boxplot.html)."
   ]
  },
  {
   "cell_type": "code",
   "execution_count": 105,
   "metadata": {},
   "outputs": [
    {
     "name": "stdout",
     "output_type": "stream",
     "text": [
      "<class 'pandas.core.frame.DataFrame'>\n",
      "RangeIndex: 150 entries, 0 to 149\n",
      "Data columns (total 5 columns):\n",
      " #   Column        Non-Null Count  Dtype  \n",
      "---  ------        --------------  -----  \n",
      " 0   sepal.length  150 non-null    float64\n",
      " 1   sepal.width   150 non-null    float64\n",
      " 2   petal.length  150 non-null    float64\n",
      " 3   petal.width   150 non-null    float64\n",
      " 4   variety       150 non-null    object \n",
      "dtypes: float64(4), object(1)\n",
      "memory usage: 6.0+ KB\n"
     ]
    },
    {
     "data": {
      "text/html": [
       "<div>\n",
       "<style scoped>\n",
       "    .dataframe tbody tr th:only-of-type {\n",
       "        vertical-align: middle;\n",
       "    }\n",
       "\n",
       "    .dataframe tbody tr th {\n",
       "        vertical-align: top;\n",
       "    }\n",
       "\n",
       "    .dataframe thead th {\n",
       "        text-align: right;\n",
       "    }\n",
       "</style>\n",
       "<table border=\"1\" class=\"dataframe\">\n",
       "  <thead>\n",
       "    <tr style=\"text-align: right;\">\n",
       "      <th></th>\n",
       "      <th>sepal.length</th>\n",
       "      <th>sepal.width</th>\n",
       "      <th>petal.length</th>\n",
       "      <th>petal.width</th>\n",
       "      <th>variety</th>\n",
       "    </tr>\n",
       "  </thead>\n",
       "  <tbody>\n",
       "    <tr>\n",
       "      <th>0</th>\n",
       "      <td>5.1</td>\n",
       "      <td>3.5</td>\n",
       "      <td>1.4</td>\n",
       "      <td>0.2</td>\n",
       "      <td>Setosa</td>\n",
       "    </tr>\n",
       "    <tr>\n",
       "      <th>1</th>\n",
       "      <td>4.9</td>\n",
       "      <td>3.0</td>\n",
       "      <td>1.4</td>\n",
       "      <td>0.2</td>\n",
       "      <td>Setosa</td>\n",
       "    </tr>\n",
       "    <tr>\n",
       "      <th>2</th>\n",
       "      <td>4.7</td>\n",
       "      <td>3.2</td>\n",
       "      <td>1.3</td>\n",
       "      <td>0.2</td>\n",
       "      <td>Setosa</td>\n",
       "    </tr>\n",
       "    <tr>\n",
       "      <th>3</th>\n",
       "      <td>4.6</td>\n",
       "      <td>3.1</td>\n",
       "      <td>1.5</td>\n",
       "      <td>0.2</td>\n",
       "      <td>Setosa</td>\n",
       "    </tr>\n",
       "    <tr>\n",
       "      <th>4</th>\n",
       "      <td>5.0</td>\n",
       "      <td>3.6</td>\n",
       "      <td>1.4</td>\n",
       "      <td>0.2</td>\n",
       "      <td>Setosa</td>\n",
       "    </tr>\n",
       "  </tbody>\n",
       "</table>\n",
       "</div>"
      ],
      "text/plain": [
       "   sepal.length  sepal.width  petal.length  petal.width variety\n",
       "0           5.1          3.5           1.4          0.2  Setosa\n",
       "1           4.9          3.0           1.4          0.2  Setosa\n",
       "2           4.7          3.2           1.3          0.2  Setosa\n",
       "3           4.6          3.1           1.5          0.2  Setosa\n",
       "4           5.0          3.6           1.4          0.2  Setosa"
      ]
     },
     "execution_count": 105,
     "metadata": {},
     "output_type": "execute_result"
    }
   ],
   "source": [
    "# Carregando o dataset\n",
    "df = pd.read_csv('iris.csv')\n",
    "\n",
    "df.info()  # Verificando as informações do dataset\n",
    "df.head()  # Visualizando as primeiras linhas do dataset"
   ]
  },
  {
   "cell_type": "code",
   "execution_count": 106,
   "metadata": {},
   "outputs": [
    {
     "data": {
      "text/html": [
       "<div>\n",
       "<style scoped>\n",
       "    .dataframe tbody tr th:only-of-type {\n",
       "        vertical-align: middle;\n",
       "    }\n",
       "\n",
       "    .dataframe tbody tr th {\n",
       "        vertical-align: top;\n",
       "    }\n",
       "\n",
       "    .dataframe thead th {\n",
       "        text-align: right;\n",
       "    }\n",
       "</style>\n",
       "<table border=\"1\" class=\"dataframe\">\n",
       "  <thead>\n",
       "    <tr style=\"text-align: right;\">\n",
       "      <th></th>\n",
       "      <th>sepal.length</th>\n",
       "      <th>sepal.width</th>\n",
       "      <th>petal.length</th>\n",
       "      <th>petal.width</th>\n",
       "    </tr>\n",
       "  </thead>\n",
       "  <tbody>\n",
       "    <tr>\n",
       "      <th>0.25</th>\n",
       "      <td>5.6</td>\n",
       "      <td>2.525</td>\n",
       "      <td>4.00</td>\n",
       "      <td>1.2</td>\n",
       "    </tr>\n",
       "    <tr>\n",
       "      <th>0.50</th>\n",
       "      <td>5.9</td>\n",
       "      <td>2.800</td>\n",
       "      <td>4.35</td>\n",
       "      <td>1.3</td>\n",
       "    </tr>\n",
       "    <tr>\n",
       "      <th>0.75</th>\n",
       "      <td>6.3</td>\n",
       "      <td>3.000</td>\n",
       "      <td>4.60</td>\n",
       "      <td>1.5</td>\n",
       "    </tr>\n",
       "  </tbody>\n",
       "</table>\n",
       "</div>"
      ],
      "text/plain": [
       "      sepal.length  sepal.width  petal.length  petal.width\n",
       "0.25           5.6        2.525          4.00          1.2\n",
       "0.50           5.9        2.800          4.35          1.3\n",
       "0.75           6.3        3.000          4.60          1.5"
      ]
     },
     "execution_count": 106,
     "metadata": {},
     "output_type": "execute_result"
    }
   ],
   "source": [
    "df[df[\"variety\"] == \"Versicolor\"].quantile([0.25, 0.5, 0.75], numeric_only=True)"
   ]
  },
  {
   "cell_type": "code",
   "execution_count": 107,
   "metadata": {},
   "outputs": [
    {
     "data": {
      "text/html": [
       "<div>\n",
       "<style scoped>\n",
       "    .dataframe tbody tr th:only-of-type {\n",
       "        vertical-align: middle;\n",
       "    }\n",
       "\n",
       "    .dataframe tbody tr th {\n",
       "        vertical-align: top;\n",
       "    }\n",
       "\n",
       "    .dataframe thead th {\n",
       "        text-align: right;\n",
       "    }\n",
       "</style>\n",
       "<table border=\"1\" class=\"dataframe\">\n",
       "  <thead>\n",
       "    <tr style=\"text-align: right;\">\n",
       "      <th></th>\n",
       "      <th>sepal.length</th>\n",
       "      <th>sepal.width</th>\n",
       "      <th>petal.length</th>\n",
       "      <th>petal.width</th>\n",
       "    </tr>\n",
       "  </thead>\n",
       "  <tbody>\n",
       "    <tr>\n",
       "      <th>0.25</th>\n",
       "      <td>5.1</td>\n",
       "      <td>2.8</td>\n",
       "      <td>1.60</td>\n",
       "      <td>0.3</td>\n",
       "    </tr>\n",
       "    <tr>\n",
       "      <th>0.50</th>\n",
       "      <td>5.8</td>\n",
       "      <td>3.0</td>\n",
       "      <td>4.35</td>\n",
       "      <td>1.3</td>\n",
       "    </tr>\n",
       "    <tr>\n",
       "      <th>0.75</th>\n",
       "      <td>6.4</td>\n",
       "      <td>3.3</td>\n",
       "      <td>5.10</td>\n",
       "      <td>1.8</td>\n",
       "    </tr>\n",
       "  </tbody>\n",
       "</table>\n",
       "</div>"
      ],
      "text/plain": [
       "      sepal.length  sepal.width  petal.length  petal.width\n",
       "0.25           5.1          2.8          1.60          0.3\n",
       "0.50           5.8          3.0          4.35          1.3\n",
       "0.75           6.4          3.3          5.10          1.8"
      ]
     },
     "execution_count": 107,
     "metadata": {},
     "output_type": "execute_result"
    }
   ],
   "source": [
    "# Calculando os quartis\n",
    "df.quantile([0.25, 0.5, 0.75], numeric_only=True)\n",
    "# `numeric_only=True` para calcular apenas as colunas numéricas, caso contrário, \n",
    "# ocorrerá um erro por conta da coluna `variety` (string)"
   ]
  },
  {
   "cell_type": "code",
   "execution_count": 108,
   "metadata": {},
   "outputs": [
    {
     "data": {
      "image/png": "[encoded data removed]",
      "text/plain": [
       "<Figure size 800x800 with 1 Axes>"
      ]
     },
     "metadata": {},
     "output_type": "display_data"
    }
   ],
   "source": [
    "# Visualizando os quartis de todas as colunas usando boxplot\n",
    "df.boxplot(figsize=(8, 8), showfliers=False)\n",
    "\n",
    "# Desenhando linhas nos quartis de cada coluna\n",
    "for i, col in enumerate(df.columns[:-1]):\n",
    "    q = df[col].quantile([0.25, 0.5, 0.75])\n",
    "\n",
    "    colors = ['r', 'g', 'b']\n",
    "    for j, v in enumerate(q):\n",
    "        # Desenhando linhas nos quartis\n",
    "        plt.axhline(v, color=colors[j], linestyle='--', xmin=i * 0.25, xmax=(i + 1) * 0.25)\n",
    "        \n",
    "        # Escrevendo os valores dos quartis\n",
    "        plt.text(i + 0.05, v - 0.05, f'Q{j + 1} = {round(v, 2)}')\n",
    "\n",
    "plt.show()"
   ]
  },
  {
   "cell_type": "markdown",
   "metadata": {},
   "source": [
    "# Decis\n",
    "\n",
    "## A partir de um array"
   ]
  },
  {
   "cell_type": "code",
   "execution_count": 109,
   "metadata": {},
   "outputs": [
    {
     "data": {
      "text/html": [
       "<div>\n",
       "<style scoped>\n",
       "    .dataframe tbody tr th:only-of-type {\n",
       "        vertical-align: middle;\n",
       "    }\n",
       "\n",
       "    .dataframe tbody tr th {\n",
       "        vertical-align: top;\n",
       "    }\n",
       "\n",
       "    .dataframe thead th {\n",
       "        text-align: right;\n",
       "    }\n",
       "</style>\n",
       "<table border=\"1\" class=\"dataframe\">\n",
       "  <thead>\n",
       "    <tr style=\"text-align: right;\">\n",
       "      <th></th>\n",
       "      <th>Quantis</th>\n",
       "    </tr>\n",
       "  </thead>\n",
       "  <tbody>\n",
       "    <tr>\n",
       "      <th>10%</th>\n",
       "      <td>-1.211618</td>\n",
       "    </tr>\n",
       "    <tr>\n",
       "      <th>20%</th>\n",
       "      <td>-0.844819</td>\n",
       "    </tr>\n",
       "    <tr>\n",
       "      <th>30%</th>\n",
       "      <td>-0.509204</td>\n",
       "    </tr>\n",
       "    <tr>\n",
       "      <th>40%</th>\n",
       "      <td>-0.266979</td>\n",
       "    </tr>\n",
       "    <tr>\n",
       "      <th>50%</th>\n",
       "      <td>-0.037214</td>\n",
       "    </tr>\n",
       "    <tr>\n",
       "      <th>60%</th>\n",
       "      <td>0.247490</td>\n",
       "    </tr>\n",
       "    <tr>\n",
       "      <th>70%</th>\n",
       "      <td>0.524057</td>\n",
       "    </tr>\n",
       "    <tr>\n",
       "      <th>80%</th>\n",
       "      <td>0.800563</td>\n",
       "    </tr>\n",
       "    <tr>\n",
       "      <th>90%</th>\n",
       "      <td>1.246466</td>\n",
       "    </tr>\n",
       "  </tbody>\n",
       "</table>\n",
       "</div>"
      ],
      "text/plain": [
       "      Quantis\n",
       "10% -1.211618\n",
       "20% -0.844819\n",
       "30% -0.509204\n",
       "40% -0.266979\n",
       "50% -0.037214\n",
       "60%  0.247490\n",
       "70%  0.524057\n",
       "80%  0.800563\n",
       "90%  1.246466"
      ]
     },
     "execution_count": 109,
     "metadata": {},
     "output_type": "execute_result"
    }
   ],
   "source": [
    "# Criando um array com 1000 valores aleatórios\n",
    "k = np.random.normal(0, 1, 1000)\n",
    "\n",
    "# Calculando os decis\n",
    "quantile(k, np.arange(0.1, 1, 0.1))"
   ]
  },
  {
   "cell_type": "code",
   "execution_count": 110,
   "metadata": {},
   "outputs": [
    {
     "data": {
      "text/plain": [
       "-0.5092035925173194"
      ]
     },
     "execution_count": 110,
     "metadata": {},
     "output_type": "execute_result"
    }
   ],
   "source": [
    "# Decis específicos\n",
    "np.quantile(k, 0.3)"
   ]
  },
  {
   "cell_type": "markdown",
   "metadata": {},
   "source": [
    "## A partir de uma fdt"
   ]
  },
  {
   "cell_type": "code",
   "execution_count": 111,
   "metadata": {},
   "outputs": [
    {
     "data": {
      "text/html": [
       "<div>\n",
       "<style scoped>\n",
       "    .dataframe tbody tr th:only-of-type {\n",
       "        vertical-align: middle;\n",
       "    }\n",
       "\n",
       "    .dataframe tbody tr th {\n",
       "        vertical-align: top;\n",
       "    }\n",
       "\n",
       "    .dataframe thead th {\n",
       "        text-align: right;\n",
       "    }\n",
       "</style>\n",
       "<table border=\"1\" class=\"dataframe\">\n",
       "  <thead>\n",
       "    <tr style=\"text-align: right;\">\n",
       "      <th></th>\n",
       "      <th>f</th>\n",
       "      <th>rf</th>\n",
       "      <th>rf(%)</th>\n",
       "      <th>cf</th>\n",
       "      <th>cf(%)</th>\n",
       "    </tr>\n",
       "  </thead>\n",
       "  <tbody>\n",
       "    <tr>\n",
       "      <th>[50.0, 54.0)</th>\n",
       "      <td>4</td>\n",
       "      <td>0.100</td>\n",
       "      <td>10.0</td>\n",
       "      <td>4</td>\n",
       "      <td>10.0</td>\n",
       "    </tr>\n",
       "    <tr>\n",
       "      <th>[54.0, 58.0)</th>\n",
       "      <td>9</td>\n",
       "      <td>0.225</td>\n",
       "      <td>22.5</td>\n",
       "      <td>13</td>\n",
       "      <td>32.5</td>\n",
       "    </tr>\n",
       "    <tr>\n",
       "      <th>[58.0, 62.0)</th>\n",
       "      <td>11</td>\n",
       "      <td>0.275</td>\n",
       "      <td>27.5</td>\n",
       "      <td>24</td>\n",
       "      <td>60.0</td>\n",
       "    </tr>\n",
       "    <tr>\n",
       "      <th>[62.0, 66.0)</th>\n",
       "      <td>8</td>\n",
       "      <td>0.200</td>\n",
       "      <td>20.0</td>\n",
       "      <td>32</td>\n",
       "      <td>80.0</td>\n",
       "    </tr>\n",
       "    <tr>\n",
       "      <th>[66.0, 70.0)</th>\n",
       "      <td>5</td>\n",
       "      <td>0.125</td>\n",
       "      <td>12.5</td>\n",
       "      <td>37</td>\n",
       "      <td>92.5</td>\n",
       "    </tr>\n",
       "    <tr>\n",
       "      <th>[70.0, 74.0)</th>\n",
       "      <td>3</td>\n",
       "      <td>0.075</td>\n",
       "      <td>7.5</td>\n",
       "      <td>40</td>\n",
       "      <td>100.0</td>\n",
       "    </tr>\n",
       "  </tbody>\n",
       "</table>\n",
       "</div>"
      ],
      "text/plain": [
       "               f     rf  rf(%)  cf  cf(%)\n",
       "[50.0, 54.0)   4  0.100   10.0   4   10.0\n",
       "[54.0, 58.0)   9  0.225   22.5  13   32.5\n",
       "[58.0, 62.0)  11  0.275   27.5  24   60.0\n",
       "[62.0, 66.0)   8  0.200   20.0  32   80.0\n",
       "[66.0, 70.0)   5  0.125   12.5  37   92.5\n",
       "[70.0, 74.0)   3  0.075    7.5  40  100.0"
      ]
     },
     "execution_count": 111,
     "metadata": {},
     "output_type": "execute_result"
    }
   ],
   "source": [
    "# Criando uma tabela de distribuição de frequência\n",
    "fdt = FrequencyTable(\n",
    "        f=np.array([4, 9, 11, 8, 5, 3]),\n",
    "        start=50,\n",
    "        end=74)\n",
    "fdt"
   ]
  },
  {
   "cell_type": "code",
   "execution_count": 112,
   "metadata": {},
   "outputs": [
    {
     "data": {
      "text/html": [
       "<div>\n",
       "<style scoped>\n",
       "    .dataframe tbody tr th:only-of-type {\n",
       "        vertical-align: middle;\n",
       "    }\n",
       "\n",
       "    .dataframe tbody tr th {\n",
       "        vertical-align: top;\n",
       "    }\n",
       "\n",
       "    .dataframe thead th {\n",
       "        text-align: right;\n",
       "    }\n",
       "</style>\n",
       "<table border=\"1\" class=\"dataframe\">\n",
       "  <thead>\n",
       "    <tr style=\"text-align: right;\">\n",
       "      <th></th>\n",
       "      <th>Quantis</th>\n",
       "    </tr>\n",
       "  </thead>\n",
       "  <tbody>\n",
       "    <tr>\n",
       "      <th>10%</th>\n",
       "      <td>54.000000</td>\n",
       "    </tr>\n",
       "    <tr>\n",
       "      <th>20%</th>\n",
       "      <td>55.777778</td>\n",
       "    </tr>\n",
       "    <tr>\n",
       "      <th>30%</th>\n",
       "      <td>57.555556</td>\n",
       "    </tr>\n",
       "    <tr>\n",
       "      <th>40%</th>\n",
       "      <td>59.090909</td>\n",
       "    </tr>\n",
       "    <tr>\n",
       "      <th>50%</th>\n",
       "      <td>60.545455</td>\n",
       "    </tr>\n",
       "    <tr>\n",
       "      <th>60%</th>\n",
       "      <td>62.000000</td>\n",
       "    </tr>\n",
       "    <tr>\n",
       "      <th>70%</th>\n",
       "      <td>64.000000</td>\n",
       "    </tr>\n",
       "    <tr>\n",
       "      <th>80%</th>\n",
       "      <td>66.000000</td>\n",
       "    </tr>\n",
       "    <tr>\n",
       "      <th>90%</th>\n",
       "      <td>69.200000</td>\n",
       "    </tr>\n",
       "  </tbody>\n",
       "</table>\n",
       "</div>"
      ],
      "text/plain": [
       "       Quantis\n",
       "10%  54.000000\n",
       "20%  55.777778\n",
       "30%  57.555556\n",
       "40%  59.090909\n",
       "50%  60.545455\n",
       "60%  62.000000\n",
       "70%  64.000000\n",
       "80%  66.000000\n",
       "90%  69.200000"
      ]
     },
     "execution_count": 112,
     "metadata": {},
     "output_type": "execute_result"
    }
   ],
   "source": [
    "# Calculando os decis\n",
    "quantile(fdt, np.arange(0.1, 1, 0.1))"
   ]
  },
  {
   "cell_type": "markdown",
   "metadata": {},
   "source": [
    "## Visualização com Histograma\n",
    "\n",
    "Documentação das principais funções utilizadas:\n",
    "- [`plt.hist`](https://matplotlib.org/stable/api/_as_gen/matplotlib.pyplot.hist.html)."
   ]
  },
  {
   "cell_type": "code",
   "execution_count": 113,
   "metadata": {},
   "outputs": [
    {
     "data": {
      "image/png": "[encoded data removed]",
      "text/plain": [
       "<Figure size 600x800 with 1 Axes>"
      ]
     },
     "metadata": {},
     "output_type": "display_data"
    }
   ],
   "source": [
    "# Definindo o tamanho da figura\n",
    "plt.figure(figsize=(6, 8))\n",
    "\n",
    "# Definindo o título e os eixos\n",
    "plt.title('Visualização com Histograma')\n",
    "plt.xlabel('Frequência')\n",
    "\n",
    "# Plotando o histograma\n",
    "plt.hist(k, bins=30, orientation='horizontal', color='gray', alpha=0.5, rwidth=0.9)\n",
    "\n",
    "# Desenhando linhas nos decis\n",
    "d = np.quantile(k, np.arange(0.1, 1, 0.1))\n",
    "\n",
    "for i, v in enumerate(d):\n",
    "    plt.axhline(v, color='r', linestyle='--', linewidth=0.9)\n",
    "\n",
    "    # Escrevendo os valores dos decis\n",
    "    plt.text(x=5, y=v + 0.07, s=f'D{i+1} = {round(v, 2)}')\n",
    "\n",
    "# Mostrando o gráfico\n",
    "plt.show()"
   ]
  },
  {
   "cell_type": "markdown",
   "metadata": {},
   "source": [
    "## A partir de um conjunto de dados"
   ]
  },
  {
   "cell_type": "code",
   "execution_count": 114,
   "metadata": {},
   "outputs": [
    {
     "data": {
      "text/html": [
       "<div>\n",
       "<style scoped>\n",
       "    .dataframe tbody tr th:only-of-type {\n",
       "        vertical-align: middle;\n",
       "    }\n",
       "\n",
       "    .dataframe tbody tr th {\n",
       "        vertical-align: top;\n",
       "    }\n",
       "\n",
       "    .dataframe thead th {\n",
       "        text-align: right;\n",
       "    }\n",
       "</style>\n",
       "<table border=\"1\" class=\"dataframe\">\n",
       "  <thead>\n",
       "    <tr style=\"text-align: right;\">\n",
       "      <th></th>\n",
       "      <th>sepal.length</th>\n",
       "      <th>sepal.width</th>\n",
       "      <th>petal.length</th>\n",
       "      <th>petal.width</th>\n",
       "    </tr>\n",
       "  </thead>\n",
       "  <tbody>\n",
       "    <tr>\n",
       "      <th>0.1</th>\n",
       "      <td>4.80</td>\n",
       "      <td>2.50</td>\n",
       "      <td>1.40</td>\n",
       "      <td>0.20</td>\n",
       "    </tr>\n",
       "    <tr>\n",
       "      <th>0.2</th>\n",
       "      <td>5.00</td>\n",
       "      <td>2.70</td>\n",
       "      <td>1.50</td>\n",
       "      <td>0.20</td>\n",
       "    </tr>\n",
       "    <tr>\n",
       "      <th>0.3</th>\n",
       "      <td>5.27</td>\n",
       "      <td>2.80</td>\n",
       "      <td>1.70</td>\n",
       "      <td>0.40</td>\n",
       "    </tr>\n",
       "    <tr>\n",
       "      <th>0.4</th>\n",
       "      <td>5.60</td>\n",
       "      <td>3.00</td>\n",
       "      <td>3.90</td>\n",
       "      <td>1.16</td>\n",
       "    </tr>\n",
       "    <tr>\n",
       "      <th>0.5</th>\n",
       "      <td>5.80</td>\n",
       "      <td>3.00</td>\n",
       "      <td>4.35</td>\n",
       "      <td>1.30</td>\n",
       "    </tr>\n",
       "    <tr>\n",
       "      <th>0.6</th>\n",
       "      <td>6.10</td>\n",
       "      <td>3.10</td>\n",
       "      <td>4.64</td>\n",
       "      <td>1.50</td>\n",
       "    </tr>\n",
       "    <tr>\n",
       "      <th>0.7</th>\n",
       "      <td>6.30</td>\n",
       "      <td>3.20</td>\n",
       "      <td>5.00</td>\n",
       "      <td>1.80</td>\n",
       "    </tr>\n",
       "    <tr>\n",
       "      <th>0.8</th>\n",
       "      <td>6.52</td>\n",
       "      <td>3.40</td>\n",
       "      <td>5.32</td>\n",
       "      <td>1.90</td>\n",
       "    </tr>\n",
       "    <tr>\n",
       "      <th>0.9</th>\n",
       "      <td>6.90</td>\n",
       "      <td>3.61</td>\n",
       "      <td>5.80</td>\n",
       "      <td>2.20</td>\n",
       "    </tr>\n",
       "  </tbody>\n",
       "</table>\n",
       "</div>"
      ],
      "text/plain": [
       "     sepal.length  sepal.width  petal.length  petal.width\n",
       "0.1          4.80         2.50          1.40         0.20\n",
       "0.2          5.00         2.70          1.50         0.20\n",
       "0.3          5.27         2.80          1.70         0.40\n",
       "0.4          5.60         3.00          3.90         1.16\n",
       "0.5          5.80         3.00          4.35         1.30\n",
       "0.6          6.10         3.10          4.64         1.50\n",
       "0.7          6.30         3.20          5.00         1.80\n",
       "0.8          6.52         3.40          5.32         1.90\n",
       "0.9          6.90         3.61          5.80         2.20"
      ]
     },
     "execution_count": 114,
     "metadata": {},
     "output_type": "execute_result"
    }
   ],
   "source": [
    "# O conjunto de dados utilizado será o `df` criado anteriormente\n",
    "\n",
    "# Calculando os decis\n",
    "df.quantile(np.arange(0.1, 1, 0.1), numeric_only=True)"
   ]
  },
  {
   "cell_type": "code",
   "execution_count": 115,
   "metadata": {},
   "outputs": [
    {
     "data": {
      "image/png": "[encoded data removed]",
      "text/plain": [
       "<Figure size 600x1000 with 1 Axes>"
      ]
     },
     "metadata": {},
     "output_type": "display_data"
    }
   ],
   "source": [
    "# Visualizando os decis de todas as colunas usando histograma na horizontal\n",
    "df.plot.hist(figsize=(6, 10), bins=40, alpha=0.5, orientation='horizontal', rwidth=0.9)\n",
    "\n",
    "# Definindo o título e os eixos\n",
    "plt.title('Visualização com Histograma')\n",
    "plt.xlabel('Frequência')\n",
    "\n",
    "# Desenhando linhas nos decis de cada coluna com exceção da coluna `variety`\n",
    "colors = ['blue', 'orange', 'green', 'red']\n",
    "for i, col in enumerate(df.columns[:-1]):\n",
    "    d = df[col].quantile(np.arange(0.1, 1, 0.1))\n",
    "\n",
    "    # Desenhando linhas nos decis\n",
    "    for j, v in enumerate(d):\n",
    "        plt.axhline(v, color=colors[i], linestyle='--', linewidth=0.9)\n",
    "\n",
    "        # Escrevendo os valores dos decis\n",
    "        plt.text(x=7 * i + 5, y=v + 0.07, s=f'D{j+1} = {round(v, 2)}', color=colors[i])\n",
    "\n",
    "plt.show()"
   ]
  },
  {
   "cell_type": "markdown",
   "metadata": {},
   "source": [
    "# Percentis\n",
    "\n",
    "## A partir de um array"
   ]
  },
  {
   "cell_type": "code",
   "execution_count": 116,
   "metadata": {},
   "outputs": [
    {
     "data": {
      "text/html": [
       "<div>\n",
       "<style scoped>\n",
       "    .dataframe tbody tr th:only-of-type {\n",
       "        vertical-align: middle;\n",
       "    }\n",
       "\n",
       "    .dataframe tbody tr th {\n",
       "        vertical-align: top;\n",
       "    }\n",
       "\n",
       "    .dataframe thead th {\n",
       "        text-align: right;\n",
       "    }\n",
       "</style>\n",
       "<table border=\"1\" class=\"dataframe\">\n",
       "  <thead>\n",
       "    <tr style=\"text-align: right;\">\n",
       "      <th></th>\n",
       "      <th>Quantis</th>\n",
       "    </tr>\n",
       "  </thead>\n",
       "  <tbody>\n",
       "    <tr>\n",
       "      <th>1%</th>\n",
       "      <td>-2.309304</td>\n",
       "    </tr>\n",
       "    <tr>\n",
       "      <th>2%</th>\n",
       "      <td>-2.005358</td>\n",
       "    </tr>\n",
       "    <tr>\n",
       "      <th>3%</th>\n",
       "      <td>-1.817051</td>\n",
       "    </tr>\n",
       "    <tr>\n",
       "      <th>4%</th>\n",
       "      <td>-1.684750</td>\n",
       "    </tr>\n",
       "    <tr>\n",
       "      <th>5%</th>\n",
       "      <td>-1.615242</td>\n",
       "    </tr>\n",
       "    <tr>\n",
       "      <th>...</th>\n",
       "      <td>...</td>\n",
       "    </tr>\n",
       "    <tr>\n",
       "      <th>95%</th>\n",
       "      <td>1.629178</td>\n",
       "    </tr>\n",
       "    <tr>\n",
       "      <th>96%</th>\n",
       "      <td>1.697360</td>\n",
       "    </tr>\n",
       "    <tr>\n",
       "      <th>97%</th>\n",
       "      <td>1.953995</td>\n",
       "    </tr>\n",
       "    <tr>\n",
       "      <th>98%</th>\n",
       "      <td>2.025039</td>\n",
       "    </tr>\n",
       "    <tr>\n",
       "      <th>99%</th>\n",
       "      <td>2.272505</td>\n",
       "    </tr>\n",
       "  </tbody>\n",
       "</table>\n",
       "<p>99 rows × 1 columns</p>\n",
       "</div>"
      ],
      "text/plain": [
       "      Quantis\n",
       "1%  -2.309304\n",
       "2%  -2.005358\n",
       "3%  -1.817051\n",
       "4%  -1.684750\n",
       "5%  -1.615242\n",
       "..        ...\n",
       "95%  1.629178\n",
       "96%  1.697360\n",
       "97%  1.953995\n",
       "98%  2.025039\n",
       "99%  2.272505\n",
       "\n",
       "[99 rows x 1 columns]"
      ]
     },
     "execution_count": 116,
     "metadata": {},
     "output_type": "execute_result"
    }
   ],
   "source": [
    "# Criando um array com 1000 valores aleatórios\n",
    "k = np.random.normal(0, 1, 1000)\n",
    "\n",
    "# Todos os percentis\n",
    "quantile(k, np.arange(0.01, 1, 0.01))"
   ]
  },
  {
   "cell_type": "code",
   "execution_count": 117,
   "metadata": {},
   "outputs": [
    {
     "data": {
      "text/plain": [
       "1.396313414047998"
      ]
     },
     "execution_count": 117,
     "metadata": {},
     "output_type": "execute_result"
    }
   ],
   "source": [
    "# Percentis específicos\n",
    "np.quantile(k, 0.92)"
   ]
  },
  {
   "cell_type": "markdown",
   "metadata": {},
   "source": [
    "## A partir de uma fdt"
   ]
  },
  {
   "cell_type": "code",
   "execution_count": 118,
   "metadata": {},
   "outputs": [
    {
     "data": {
      "text/html": [
       "<div>\n",
       "<style scoped>\n",
       "    .dataframe tbody tr th:only-of-type {\n",
       "        vertical-align: middle;\n",
       "    }\n",
       "\n",
       "    .dataframe tbody tr th {\n",
       "        vertical-align: top;\n",
       "    }\n",
       "\n",
       "    .dataframe thead th {\n",
       "        text-align: right;\n",
       "    }\n",
       "</style>\n",
       "<table border=\"1\" class=\"dataframe\">\n",
       "  <thead>\n",
       "    <tr style=\"text-align: right;\">\n",
       "      <th></th>\n",
       "      <th>f</th>\n",
       "      <th>rf</th>\n",
       "      <th>rf(%)</th>\n",
       "      <th>cf</th>\n",
       "      <th>cf(%)</th>\n",
       "    </tr>\n",
       "  </thead>\n",
       "  <tbody>\n",
       "    <tr>\n",
       "      <th>[4.0, 8.0)</th>\n",
       "      <td>5</td>\n",
       "      <td>0.25</td>\n",
       "      <td>25.0</td>\n",
       "      <td>5</td>\n",
       "      <td>25.0</td>\n",
       "    </tr>\n",
       "    <tr>\n",
       "      <th>[8.0, 12.0)</th>\n",
       "      <td>7</td>\n",
       "      <td>0.35</td>\n",
       "      <td>35.0</td>\n",
       "      <td>12</td>\n",
       "      <td>60.0</td>\n",
       "    </tr>\n",
       "    <tr>\n",
       "      <th>[12.0, 16.0)</th>\n",
       "      <td>4</td>\n",
       "      <td>0.20</td>\n",
       "      <td>20.0</td>\n",
       "      <td>16</td>\n",
       "      <td>80.0</td>\n",
       "    </tr>\n",
       "    <tr>\n",
       "      <th>[16.0, 20.0)</th>\n",
       "      <td>2</td>\n",
       "      <td>0.10</td>\n",
       "      <td>10.0</td>\n",
       "      <td>18</td>\n",
       "      <td>90.0</td>\n",
       "    </tr>\n",
       "    <tr>\n",
       "      <th>[20.0, 24.0)</th>\n",
       "      <td>2</td>\n",
       "      <td>0.10</td>\n",
       "      <td>10.0</td>\n",
       "      <td>20</td>\n",
       "      <td>100.0</td>\n",
       "    </tr>\n",
       "  </tbody>\n",
       "</table>\n",
       "</div>"
      ],
      "text/plain": [
       "              f    rf  rf(%)  cf  cf(%)\n",
       "[4.0, 8.0)    5  0.25   25.0   5   25.0\n",
       "[8.0, 12.0)   7  0.35   35.0  12   60.0\n",
       "[12.0, 16.0)  4  0.20   20.0  16   80.0\n",
       "[16.0, 20.0)  2  0.10   10.0  18   90.0\n",
       "[20.0, 24.0)  2  0.10   10.0  20  100.0"
      ]
     },
     "execution_count": 118,
     "metadata": {},
     "output_type": "execute_result"
    }
   ],
   "source": [
    "# Criando uma tabela de distribuição de frequência\n",
    "fdt = FrequencyTable(\n",
    "        f=np.array([5, 7, 4, 2, 2]),\n",
    "        start=4,\n",
    "        end=24)\n",
    "fdt"
   ]
  },
  {
   "cell_type": "code",
   "execution_count": 119,
   "metadata": {},
   "outputs": [
    {
     "data": {
      "text/html": [
       "<div>\n",
       "<style scoped>\n",
       "    .dataframe tbody tr th:only-of-type {\n",
       "        vertical-align: middle;\n",
       "    }\n",
       "\n",
       "    .dataframe tbody tr th {\n",
       "        vertical-align: top;\n",
       "    }\n",
       "\n",
       "    .dataframe thead th {\n",
       "        text-align: right;\n",
       "    }\n",
       "</style>\n",
       "<table border=\"1\" class=\"dataframe\">\n",
       "  <thead>\n",
       "    <tr style=\"text-align: right;\">\n",
       "      <th></th>\n",
       "      <th>Quantis</th>\n",
       "    </tr>\n",
       "  </thead>\n",
       "  <tbody>\n",
       "    <tr>\n",
       "      <th>1%</th>\n",
       "      <td>4.16</td>\n",
       "    </tr>\n",
       "    <tr>\n",
       "      <th>2%</th>\n",
       "      <td>4.32</td>\n",
       "    </tr>\n",
       "    <tr>\n",
       "      <th>3%</th>\n",
       "      <td>4.48</td>\n",
       "    </tr>\n",
       "    <tr>\n",
       "      <th>4%</th>\n",
       "      <td>4.64</td>\n",
       "    </tr>\n",
       "    <tr>\n",
       "      <th>5%</th>\n",
       "      <td>4.80</td>\n",
       "    </tr>\n",
       "    <tr>\n",
       "      <th>...</th>\n",
       "      <td>...</td>\n",
       "    </tr>\n",
       "    <tr>\n",
       "      <th>95%</th>\n",
       "      <td>22.00</td>\n",
       "    </tr>\n",
       "    <tr>\n",
       "      <th>96%</th>\n",
       "      <td>22.40</td>\n",
       "    </tr>\n",
       "    <tr>\n",
       "      <th>97%</th>\n",
       "      <td>22.80</td>\n",
       "    </tr>\n",
       "    <tr>\n",
       "      <th>98%</th>\n",
       "      <td>23.20</td>\n",
       "    </tr>\n",
       "    <tr>\n",
       "      <th>99%</th>\n",
       "      <td>23.60</td>\n",
       "    </tr>\n",
       "  </tbody>\n",
       "</table>\n",
       "<p>99 rows × 1 columns</p>\n",
       "</div>"
      ],
      "text/plain": [
       "     Quantis\n",
       "1%      4.16\n",
       "2%      4.32\n",
       "3%      4.48\n",
       "4%      4.64\n",
       "5%      4.80\n",
       "..       ...\n",
       "95%    22.00\n",
       "96%    22.40\n",
       "97%    22.80\n",
       "98%    23.20\n",
       "99%    23.60\n",
       "\n",
       "[99 rows x 1 columns]"
      ]
     },
     "execution_count": 119,
     "metadata": {},
     "output_type": "execute_result"
    }
   ],
   "source": [
    "# Calculando os percentis\n",
    "quantile(fdt, np.arange(0.01, 1, 0.01))"
   ]
  },
  {
   "cell_type": "markdown",
   "metadata": {},
   "source": [
    "## Visualização com Gráfico de Linhas\n",
    "\n",
    "Documentação das principais funções utilizadas:\n",
    "- [`plt.plot`](https://matplotlib.org/stable/api/_as_gen/matplotlib.pyplot.plot.html)."
   ]
  },
  {
   "cell_type": "code",
   "execution_count": 127,
   "metadata": {},
   "outputs": [
    {
     "data": {
      "image/png": "[encoded data removed]",
      "text/plain": [
       "<Figure size 1000x500 with 1 Axes>"
      ]
     },
     "metadata": {},
     "output_type": "display_data"
    }
   ],
   "source": [
    "# Definindo o tamanho da figura\n",
    "plt.figure(figsize=(10, 5))\n",
    "\n",
    "# Definindo o título e os eixos\n",
    "plt.title('Visualização com Gráfico de Linhas')\n",
    "plt.xlabel('Percentis')\n",
    "plt.ylabel('Valores')\n",
    "\n",
    "# Plotando o gráfico dos percentis\n",
    "plt.plot(np.arange(0.01, 1, 0.01), np.quantile(k, np.arange(0.01, 1, 0.01)), marker='o', alpha=0.5, color='gray')\n",
    "\n",
    "# Definindo o limite do gráfico\n",
    "ymin = np.quantile(k, 0.01) + 0.1\n",
    "ymax = np.quantile(k, 0.99) + 0.1\n",
    "plt.xlim(0, 1)\n",
    "plt.ylim(ymin, ymax)\n",
    "\n",
    "# Definindo o percentil que será destacado\n",
    "p = float(input('Qual o percentil deseja destacar? (ENTER para escolher um aleatório): ') or np.random.randint(1, 99))\n",
    "\n",
    "# Caso o usuário digite -1, um percentil aleatório será escolhido\n",
    "if 1 > x > 99:\n",
    "    raise ValueError('O percentil deve estar entre 1 e 99')\n",
    "\n",
    "x = p / 100\n",
    "y = np.quantile(k, x)\n",
    "\n",
    "# Desenhando linhas no percentil\n",
    "ysize = ymax - ymin\n",
    "plt.axhline(y, color='r', linestyle='--', linewidth=0.9, xmin=0, xmax=x)\n",
    "plt.axvline(x, color='r', linestyle='--', linewidth=0.9, ymin=0, ymax=(y - ymin) / ysize)\n",
    "\n",
    "# Desenhando um ponto no percentil\n",
    "plt.scatter(x, y, color='r', zorder=3)\n",
    "\n",
    "# Escrevendo o valor do percentil\n",
    "plt.text(x=x + 0.01, y=y + 0.1, s=f'P{round(x*100)} = {round(y, 2)}', color='r')\n",
    "\n",
    "# Colocando grade no gráfico para facilitar a visualização\n",
    "plt.grid()\n",
    "\n",
    "# Mostrando o gráfico\n",
    "plt.show()"
   ]
  },
  {
   "cell_type": "markdown",
   "metadata": {},
   "source": [
    "## A partir de um conjunto de dados"
   ]
  },
  {
   "cell_type": "code",
   "execution_count": 121,
   "metadata": {},
   "outputs": [
    {
     "data": {
      "text/html": [
       "<div>\n",
       "<style scoped>\n",
       "    .dataframe tbody tr th:only-of-type {\n",
       "        vertical-align: middle;\n",
       "    }\n",
       "\n",
       "    .dataframe tbody tr th {\n",
       "        vertical-align: top;\n",
       "    }\n",
       "\n",
       "    .dataframe thead th {\n",
       "        text-align: right;\n",
       "    }\n",
       "</style>\n",
       "<table border=\"1\" class=\"dataframe\">\n",
       "  <thead>\n",
       "    <tr style=\"text-align: right;\">\n",
       "      <th></th>\n",
       "      <th>sepal.length</th>\n",
       "      <th>sepal.width</th>\n",
       "      <th>petal.length</th>\n",
       "      <th>petal.width</th>\n",
       "    </tr>\n",
       "  </thead>\n",
       "  <tbody>\n",
       "    <tr>\n",
       "      <th>0.01</th>\n",
       "      <td>4.400</td>\n",
       "      <td>2.200</td>\n",
       "      <td>1.149</td>\n",
       "      <td>0.100</td>\n",
       "    </tr>\n",
       "    <tr>\n",
       "      <th>0.02</th>\n",
       "      <td>4.400</td>\n",
       "      <td>2.200</td>\n",
       "      <td>1.200</td>\n",
       "      <td>0.100</td>\n",
       "    </tr>\n",
       "    <tr>\n",
       "      <th>0.03</th>\n",
       "      <td>4.547</td>\n",
       "      <td>2.300</td>\n",
       "      <td>1.300</td>\n",
       "      <td>0.147</td>\n",
       "    </tr>\n",
       "    <tr>\n",
       "      <th>0.04</th>\n",
       "      <td>4.600</td>\n",
       "      <td>2.300</td>\n",
       "      <td>1.300</td>\n",
       "      <td>0.200</td>\n",
       "    </tr>\n",
       "    <tr>\n",
       "      <th>0.05</th>\n",
       "      <td>4.600</td>\n",
       "      <td>2.345</td>\n",
       "      <td>1.300</td>\n",
       "      <td>0.200</td>\n",
       "    </tr>\n",
       "    <tr>\n",
       "      <th>...</th>\n",
       "      <td>...</td>\n",
       "      <td>...</td>\n",
       "      <td>...</td>\n",
       "      <td>...</td>\n",
       "    </tr>\n",
       "    <tr>\n",
       "      <th>0.95</th>\n",
       "      <td>7.255</td>\n",
       "      <td>3.800</td>\n",
       "      <td>6.100</td>\n",
       "      <td>2.300</td>\n",
       "    </tr>\n",
       "    <tr>\n",
       "      <th>0.96</th>\n",
       "      <td>7.408</td>\n",
       "      <td>3.804</td>\n",
       "      <td>6.108</td>\n",
       "      <td>2.304</td>\n",
       "    </tr>\n",
       "    <tr>\n",
       "      <th>0.97</th>\n",
       "      <td>7.653</td>\n",
       "      <td>3.900</td>\n",
       "      <td>6.353</td>\n",
       "      <td>2.400</td>\n",
       "    </tr>\n",
       "    <tr>\n",
       "      <th>0.98</th>\n",
       "      <td>7.700</td>\n",
       "      <td>4.002</td>\n",
       "      <td>6.602</td>\n",
       "      <td>2.402</td>\n",
       "    </tr>\n",
       "    <tr>\n",
       "      <th>0.99</th>\n",
       "      <td>7.700</td>\n",
       "      <td>4.151</td>\n",
       "      <td>6.700</td>\n",
       "      <td>2.500</td>\n",
       "    </tr>\n",
       "  </tbody>\n",
       "</table>\n",
       "<p>99 rows × 4 columns</p>\n",
       "</div>"
      ],
      "text/plain": [
       "      sepal.length  sepal.width  petal.length  petal.width\n",
       "0.01         4.400        2.200         1.149        0.100\n",
       "0.02         4.400        2.200         1.200        0.100\n",
       "0.03         4.547        2.300         1.300        0.147\n",
       "0.04         4.600        2.300         1.300        0.200\n",
       "0.05         4.600        2.345         1.300        0.200\n",
       "...            ...          ...           ...          ...\n",
       "0.95         7.255        3.800         6.100        2.300\n",
       "0.96         7.408        3.804         6.108        2.304\n",
       "0.97         7.653        3.900         6.353        2.400\n",
       "0.98         7.700        4.002         6.602        2.402\n",
       "0.99         7.700        4.151         6.700        2.500\n",
       "\n",
       "[99 rows x 4 columns]"
      ]
     },
     "execution_count": 121,
     "metadata": {},
     "output_type": "execute_result"
    }
   ],
   "source": [
    "# O conjunto de dados utilizado será o `df` criado anteriormente\n",
    "\n",
    "# Calculando os percentis\n",
    "df.quantile(np.arange(0.01, 1, 0.01), numeric_only=True)"
   ]
  },
  {
   "cell_type": "code",
   "execution_count": 122,
   "metadata": {},
   "outputs": [
    {
     "data": {
      "image/png": "[encoded data removed]",
      "text/plain": [
       "<Figure size 1000x500 with 1 Axes>"
      ]
     },
     "metadata": {},
     "output_type": "display_data"
    }
   ],
   "source": [
    "# Visualizando os percentis de todas as colunas usando gráfico de linhas\n",
    "df.quantile(np.arange(0.01, 1, 0.01), numeric_only=True)\\\n",
    "    .plot(figsize=(10, 5), grid=True, marker='o', alpha=0.5)\n",
    "plt.show()"
   ]
  },
  {
   "cell_type": "markdown",
   "metadata": {},
   "source": [
    "# Fim!\n",
    "\n",
    "Notebook criado por [Italo Seara](https://github.com/italoseara)"
   ]
  }
 ],
 "metadata": {
  "kernelspec": {
   "display_name": "Python 3 (ipykernel)",
   "language": "python",
   "name": "python3"
  },
  "language_info": {
   "codemirror_mode": {
    "name": "ipython",
    "version": 3
   },
   "file_extension": ".py",
   "mimetype": "text/x-python",
   "name": "python",
   "nbconvert_exporter": "python",
   "pygments_lexer": "ipython3",
   "version": "3.11.4"
  }
 },
 "nbformat": 4,
 "nbformat_minor": 4
}
